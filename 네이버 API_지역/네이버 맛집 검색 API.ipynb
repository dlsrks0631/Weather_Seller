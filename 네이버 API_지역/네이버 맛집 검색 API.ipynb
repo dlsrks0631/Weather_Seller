{
 "cells": [
  {
   "cell_type": "code",
   "execution_count": null,
   "metadata": {},
   "outputs": [],
   "source": [
    "import os\n",
    "import sys\n",
    "import urllib.request\n",
    "import pandas as pd\n",
    "import json\n",
    "import re\n",
    "\n",
    "client_id = \"CLIENT_ID\"\n",
    "client_secret = \"CLIENT_SECRET\"\n",
    "\n",
    "query = urllib.parse.quote(input(\"검색할 지역: \"))\n",
    "idx = 0\n",
    "display = 5\n",
    "start = 1\n",
    "end = 50\n",
    "sort = \"comment\"\n",
    "\n",
    "local_df = pd.DataFrame(columns=(\"Title\", \"Link\", \"Description\", \"Telephone\", \"Address\"))\n",
    "\n",
    "\n",
    "for start_index in range(start, end, display):\n",
    "  url = \"https://openapi.naver.com/v1/search/local?query=\" + query \\\n",
    "        + \"&display=\" + str(display) \\\n",
    "        + \"&start=\" + str(start_index) \\\n",
    "        + \"&sort=\" + sort\n",
    "\n",
    "  request = urllib.request.Request(url)\n",
    "  request.add_header(\"X-Naver-Client-Id\",client_id)\n",
    "  request.add_header(\"X-Naver-Client-Secret\",client_secret)\n",
    "  response = urllib.request.urlopen(request)\n",
    "  rescode = response.getcode()\n",
    "  if(rescode==200): # 정상적인 응답일 경우\n",
    "      response_body = response.read()\n",
    "      response_dict = json.loads(response_body.decode('utf-8'))\n",
    "      items = response_dict['items']\n",
    "      for item_index in range(0, len(items)):\n",
    "        remove_tag = re.compile('<.*?>') # 태그 제거\n",
    "        title = re.sub(remove_tag, '', items[item_index]['title'])\n",
    "        link = items[item_index]['link']\n",
    "        description = re.sub(remove_tag, '', items[item_index]['description'])\n",
    "        address = items[item_index]['address']\n",
    "        telephone = items[item_index]['telephone']\n",
    "        local_df.loc[idx] = [title, link, description, telephone, address]\n",
    "        idx += 1\n",
    "  else:\n",
    "      print(\"Error Code:\" + rescode)\n",
    "      \n",
    "\n",
    "local_df"
   ]
  }
 ],
 "metadata": {
  "language_info": {
   "name": "python"
  }
 },
 "nbformat": 4,
 "nbformat_minor": 2
}
